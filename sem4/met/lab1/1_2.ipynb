{
 "cells": [
  {
   "cell_type": "markdown",
   "metadata": {},
   "source": []
  },
  {
   "attachments": {},
   "cell_type": "markdown",
   "metadata": {},
   "source": [
    "Задание 1"
   ]
  },
  {
   "cell_type": "code",
   "execution_count": 2,
   "metadata": {},
   "outputs": [
    {
     "name": "stdout",
     "output_type": "stream",
     "text": [
      "1 задание: \n"
     ]
    },
    {
     "data": {
      "text/latex": [
       "$\\displaystyle \\left(-2.01 + 3 \\sqrt{5}\\right) \\left(\\frac{3 \\sqrt{5}}{25} + 0.495037251553179\\right)$"
      ],
      "text/plain": [
       "(-2.01 + 3*sqrt(5))*(3*sqrt(5)/25 + 0.495037251553179)"
      ]
     },
     "execution_count": 2,
     "metadata": {},
     "output_type": "execute_result"
    }
   ],
   "source": [
    "import sympy\n",
    "\n",
    "print(\"1 задание: \")\n",
    "x = sympy.Symbol('x')\n",
    "y = sympy.Symbol('y')\n",
    "\n",
    "expr = (2/(x**2) + 3/(y**3))*(x+3*y)\n",
    "\n",
    "sympy.simplify(expr)\n",
    "expr.subs(x, -2.01).subs(y, sympy.sqrt(5))"
   ]
  },
  {
   "attachments": {},
   "cell_type": "markdown",
   "metadata": {},
   "source": [
    "Задание 2"
   ]
  },
  {
   "cell_type": "code",
   "execution_count": 3,
   "metadata": {},
   "outputs": [
    {
     "data": {
      "text/latex": [
       "$\\displaystyle \\frac{9}{y^{3}} - \\frac{9 \\left(x + 3 y\\right)}{y^{4}} + \\frac{6}{x^{2}}$"
      ],
      "text/plain": [
       "9/y**3 - 9*(x + 3*y)/y**4 + 6/x**2"
      ]
     },
     "execution_count": 3,
     "metadata": {},
     "output_type": "execute_result"
    }
   ],
   "source": [
    "sympy.diff(expr, x)\n",
    "sympy.diff(expr, y)"
   ]
  },
  {
   "attachments": {},
   "cell_type": "markdown",
   "metadata": {},
   "source": [
    "Задание 3"
   ]
  },
  {
   "cell_type": "code",
   "execution_count": 4,
   "metadata": {},
   "outputs": [
    {
     "data": {
      "text/latex": [
       "$\\displaystyle \\frac{\\frac{3 x^{2}}{2} + 9 x y + 2 y^{3} \\log{\\left(x \\right)} - \\frac{6 y^{4}}{x}}{y^{3}}$"
      ],
      "text/plain": [
       "(3*x**2/2 + 9*x*y + 2*y**3*log(x) - 6*y**4/x)/y**3"
      ]
     },
     "execution_count": 4,
     "metadata": {},
     "output_type": "execute_result"
    }
   ],
   "source": [
    "sympy.integrate(expr, x)"
   ]
  },
  {
   "attachments": {},
   "cell_type": "markdown",
   "metadata": {},
   "source": [
    "Задание 4"
   ]
  },
  {
   "cell_type": "code",
   "execution_count": 19,
   "metadata": {},
   "outputs": [
    {
     "data": {
      "text/latex": [
       "$\\displaystyle \\left\\{- \\frac{2}{3}, - \\sqrt[3]{6}, \\frac{\\sqrt[3]{6}}{2} - \\frac{\\sqrt[3]{2} \\cdot 3^{\\frac{5}{6}} i}{2}, \\frac{\\sqrt[3]{6}}{2} + \\frac{\\sqrt[3]{2} \\cdot 3^{\\frac{5}{6}} i}{2}\\right\\}$"
      ],
      "text/plain": [
       "{-2/3, -6**(1/3), 6**(1/3)/2 - 2**(1/3)*3**(5/6)*I/2, 6**(1/3)/2 + 2**(1/3)*3**(5/6)*I/2}"
      ]
     },
     "execution_count": 19,
     "metadata": {},
     "output_type": "execute_result"
    }
   ],
   "source": [
    "expr = (2/(x**2) + 3/(y**3))*(x+3*y)\n",
    "sympy.solveset(sympy.Eq(expr.subs(x, 2), 0), y)"
   ]
  },
  {
   "attachments": {},
   "cell_type": "markdown",
   "metadata": {},
   "source": [
    "Задание 5"
   ]
  },
  {
   "cell_type": "code",
   "execution_count": 6,
   "metadata": {},
   "outputs": [
    {
     "data": {
      "text/latex": [
       "$\\displaystyle \\left\\{\\left( -1, \\  -2, \\  -1\\right)\\right\\}$"
      ],
      "text/plain": [
       "{(-1, -2, -1)}"
      ]
     },
     "execution_count": 6,
     "metadata": {},
     "output_type": "execute_result"
    }
   ],
   "source": [
    "system = sympy.Matrix([[-7, 3, 1, 0], [2, -1, 1, -1], [1, -2, 5, -2]])\n",
    "sympy.linsolve(system)"
   ]
  },
  {
   "attachments": {},
   "cell_type": "markdown",
   "metadata": {},
   "source": [
    "Задание 6"
   ]
  },
  {
   "cell_type": "code",
   "execution_count": 7,
   "metadata": {},
   "outputs": [
    {
     "data": {
      "text/latex": [
       "$\\displaystyle - \\log{\\left(4 \\right)} + \\log{\\left(2 \\right)} + 2$"
      ],
      "text/plain": [
       "-log(4) + log(2) + 2"
      ]
     },
     "execution_count": 7,
     "metadata": {},
     "output_type": "execute_result"
    }
   ],
   "source": [
    "expr = 1/(1 + sympy.sqrt(2*x + 1));\n",
    "sympy.integrate(expr, (x, 0, 4))"
   ]
  },
  {
   "attachments": {},
   "cell_type": "markdown",
   "metadata": {},
   "source": [
    "Задание 7"
   ]
  },
  {
   "cell_type": "code",
   "execution_count": 8,
   "metadata": {},
   "outputs": [
    {
     "data": {
      "text/latex": [
       "$\\displaystyle 0$"
      ],
      "text/plain": [
       "0"
      ]
     },
     "execution_count": 8,
     "metadata": {},
     "output_type": "execute_result"
    }
   ],
   "source": [
    "expr = sympy.cos(x + y)\n",
    "sympy.integrate(expr, (y, 0, x), (x, 0, sympy.pi/2))"
   ]
  }
 ],
 "metadata": {
  "kernelspec": {
   "display_name": "Python 3",
   "language": "python",
   "name": "python3"
  },
  "language_info": {
   "codemirror_mode": {
    "name": "ipython",
    "version": 3
   },
   "file_extension": ".py",
   "mimetype": "text/x-python",
   "name": "python",
   "nbconvert_exporter": "python",
   "pygments_lexer": "ipython3",
   "version": "3.8.10"
  },
  "orig_nbformat": 4
 },
 "nbformat": 4,
 "nbformat_minor": 2
}
