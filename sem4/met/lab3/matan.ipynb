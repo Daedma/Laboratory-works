{
 "cells": [
  {
   "cell_type": "markdown",
   "metadata": {},
   "source": [
    "1. Функция задана таблицей:\n",
    "x 0.35    0.41    0.47    0.51    0.56    0.64\n",
    "y 2.73951 2.30080 1.96864 1.78776 1.59502 1.34310\n",
    "Построить многочлен Лагранжа. Вычислить значение\n",
    "функции в точках:\n",
    "x 0.526 0.453 0.482 0.552 0.436"
   ]
  },
  {
   "cell_type": "code",
   "execution_count": 8,
   "metadata": {},
   "outputs": [
    {
     "name": "stdout",
     "output_type": "stream",
     "text": [
      "Многочлен Лагранжа:\n",
      "-82.0647873383132*x**5 + 240.837304528744*x**4 - 292.282959296659*x**3 + 187.69664161402*x**2 - 67.6090820676545*x + 12.7584368549619\n",
      "f(0.526) = 1.72247108406932\n",
      "f(0.453) = 2.05438770283536\n",
      "f(0.482) = 1.91148656539449\n",
      "f(0.552) = 1.62372942065678\n",
      "f(0.436) = 2.14634585200529\n"
     ]
    }
   ],
   "source": [
    "\n",
    "import numpy as np\n",
    "import sympy as sm\n",
    "\n",
    "x = sm.Symbol('x') #заменим х на символ\n",
    "\n",
    "# задаем таблицу значений\n",
    "X = np.array([0.35, 0.41, 0.47, 0.51, 0.56, 0.64])\n",
    "Y = np.array([2.73951, 2.30080, 1.96864, 1.78776, 1.59502, 1.34310])\n",
    "#считаем по формуле из методички\n",
    "result = 0\n",
    "for i in range (len(X)):\n",
    "    F = Y[i]\n",
    "    for j in range (len(X)):\n",
    "        if j!=i:\n",
    "            F*= (x-X[j]) #тут у нас числитель дроби формулы в виде (x-x0)*(x-x1)*...*(x-xj)\n",
    "            F/= (X[i]-X[j]) #здесь знаменатель\n",
    "    result+=F\n",
    "print(\"Многочлен Лагранжа:\")\n",
    "print(sm.expand(result)) #раскрываем скобки и приводим подобные\n",
    "\n",
    "\n",
    "# вычисляем значения функции в заданных точках\n",
    "points = [0.526, 0.453, 0.482, 0.552, 0.436]\n",
    "for point in points:\n",
    "    print(f\"f({point}) = {result.subs(x, point)}\")\n",
    "\n"
   ]
  },
  {
   "cell_type": "markdown",
   "metadata": {},
   "source": []
  },
  {
   "cell_type": "markdown",
   "source": [
    "2. Функция задана таблицей:\n",
    "x 0.01 0.06 0.11 0.16 0.21 0.26\n",
    "y 0.991824 0.951935 0.913650 0.876905 0.841638 0.807789\n",
    "x 0.31 0.36 0.41 0.46 0.51 0.56\n",
    "y 0.775301 0.744120 0.714193 0.685470 0.657902 0.631442\n",
    "Интерполяцией вперед или назад, найти значение функции в\n",
    "точках:\n",
    "x 0.027 0.525 0.008 0.61\n"
   ],
   "metadata": {
    "collapsed": false
   }
  },
  {
   "cell_type": "code",
   "execution_count": 9,
   "outputs": [
    {
     "name": "stdout",
     "output_type": "stream",
     "text": [
      "Значение функции в точке 0.027 равно 0.978079\n",
      "Значение функции в точке 0.525 равно 0.649849\n",
      "Значение функции в точке 0.008 равно 0.993453\n",
      "Значение функции в точке 0.61 равно 0.606227\n"
     ]
    }
   ],
   "source": [
    "# задаем исходные данные\n",
    "X = [0.01, 0.06, 0.11, 0.16, 0.21, 0.26, 0.31, 0.36, 0.41, 0.46, 0.51, 0.56]\n",
    "Y = [0.991824, 0.951935, 0.913650, 0.876905, 0.841638, 0.807789, 0.775301, 0.744120, 0.714193, 0.685470, 0.657902, 0.631442]\n",
    "\n",
    "# функция для интерполяции Лагранжа\n",
    "def lagrange_interpolation(X, Y, x0):\n",
    "    n = len(X)\n",
    "    result = 0.0\n",
    "    for i in range(n):\n",
    "        term = Y[i]\n",
    "        for j in range(n):\n",
    "            if j != i:\n",
    "                term *= (x0 - X[j]) / (X[i] - X[j])\n",
    "        result += term\n",
    "    return result\n",
    "\n",
    "# находим значения функции в заданных точках\n",
    "t = [0.027, 0.525, 0.008, 0.61]\n",
    "\n",
    "\n",
    "y1 = lagrange_interpolation(X, Y, t[0])\n",
    "y2 = lagrange_interpolation(X, Y, t[1])\n",
    "y3 = lagrange_interpolation(X, Y, t[2])\n",
    "y4 = lagrange_interpolation(X, Y, t[3])\n",
    "\n",
    "# выводим результаты\n",
    "print(f\"Значение функции в точке {x1} равно {y1:.6f}\")\n",
    "print(f\"Значение функции в точке {x2} равно {y2:.6f}\")\n",
    "print(f\"Значение функции в точке {x3} равно {y3:.6f}\")\n",
    "print(f\"Значение функции в точке {x4} равно {y4:.6f}\")\n"
   ],
   "metadata": {
    "collapsed": false
   }
  },
  {
   "cell_type": "code",
   "execution_count": 10,
   "outputs": [
    {
     "name": "stdout",
     "output_type": "stream",
     "text": [
      "Многочлен Ньютона:\n",
      "395.061728397308*x**11 - 1206.06701940866*x**10 + 1602.03174604648*x**9 - 1215.43449737032*x**8 + 581.332562973909*x**7 - 182.583600479037*x**6 + 38.0482874570731*x**5 - 5.17735324241267*x**4 + 0.355149160330453*x**3 + 0.31464502747821*x**2 - 0.820441413674788*x + 0.999996642630434\n"
     ]
    }
   ],
   "source": [
    "import math\n",
    "\n",
    "\n",
    "#функция для подсчёта конечных разностей\n",
    "def razn(buff):\n",
    "    deltaY = []\n",
    "    for i in range(1,len(buff)):\n",
    "        delta_y = buff[i]-buff[i-1] #тут будет выходить сначала deltaY0, затем deltaY1 и т.д.\n",
    "        deltaY.append(delta_y)\n",
    "    return deltaY\n",
    "\n",
    "result = Y[0]\n",
    "buff = Y\n",
    "h = X[1]-X[0] #по формуле из методички\n",
    "\n",
    "for i in range(1, len(Y)):\n",
    "    buff = razn(buff)\n",
    "    F = buff[0]/(math.factorial(i)*(h**i)) #по формуле; т.е. тут будет например deltaY0/h, delta2Y0/(2!h^2), delta3Y0/(3!h^3) и т.д.\n",
    "    for j in range(i):\n",
    "        F*=(x-X[j])\n",
    "    result += F #выйдет расчёт по формуле Y0+(deltaY0/h)(x-x0)+(delta2Y0/(2!h^2))(x-x0)(x-x1)+...\n",
    "\n",
    "print(\"Многочлен Ньютона:\")\n",
    "print(sm.expand(result))"
   ],
   "metadata": {
    "collapsed": false
   }
  },
  {
   "cell_type": "code",
   "execution_count": 11,
   "outputs": [
    {
     "name": "stdout",
     "output_type": "stream",
     "text": [
      "Значение функции в т. 0.027 равно 0.978078820593734\n",
      "Значение функции в т. 0.525 равно 0.649848770214503\n",
      "Значение функции в т. 0.008 равно 0.993453410432827\n",
      "Значение функции в т. 0.61 равно 0.606227000000005\n"
     ]
    }
   ],
   "source": [
    "#вычисляем значения функции при данных значениях аргумента\n",
    "for i in range(len(t)):\n",
    "    print(\"Значение функции в т.\", t[i], \"равно\", result.subs(x, t[i])) #для вычисления испльзуем subs"
   ],
   "metadata": {
    "collapsed": false
   }
  },
  {
   "cell_type": "markdown",
   "source": [
    "3. Для функции y=ln( x+1) составьте таблицу из 10\n",
    "значений на отрезке [2.9 ;3.1] . Постройте любой интерполяционный многочлен. Вычислите значение в произвольной точке и\n",
    "оцените погрешность вычисления."
   ],
   "metadata": {
    "collapsed": false
   }
  },
  {
   "cell_type": "code",
   "execution_count": 15,
   "outputs": [
    {
     "name": "stdout",
     "output_type": "stream",
     "text": [
      "Значение многочлена в точке x=3.05 равно y=1.3987168811184474\n",
      "Точное значение функции в точке x=3.05 равно y=1.3987168811184478\n",
      "Погрешность вычисления равна 4.440892098500626e-16\n"
     ]
    }
   ],
   "source": [
    "\n",
    "from scipy.interpolate import lagrange\n",
    "\n",
    "# Определяем функцию\n",
    "def f(x):\n",
    "    return np.log(x + 1)\n",
    "\n",
    "# Задаем отрезок и количество узлов\n",
    "a, b = 2.9, 3.1\n",
    "n = 10\n",
    "\n",
    "# Генерируем узлы и значения функции в них\n",
    "x = np.linspace(a, b, n)\n",
    "y = f(x)\n",
    "\n",
    "# Строим интерполяционный многочлен Лагранжа\n",
    "poly = lagrange(x, y)\n",
    "\n",
    "# Определяем точку, в которой нужно вычислить значение многочлена\n",
    "x0 = 3.05\n",
    "\n",
    "# Вычисляем значение многочлена в заданной точке\n",
    "y0 = poly(x0)\n",
    "poly1 = lagrange_interpolation(x,y,x0)\n",
    "# Вычисляем точное значение функции в заданной точке\n",
    "y_exact = f(x0)\n",
    "\n",
    "# Вычисляем погрешность вычисления\n",
    "error = abs(poly1 - y_exact)\n",
    "\n",
    "# Выводим результаты\n",
    "print(f\"Значение многочлена в точке x={x0} равно y={poly1}\")\n",
    "print(f\"Точное значение функции в точке x={x0} равно y={y_exact}\")\n",
    "print(f\"Погрешность вычисления равна {error}\")"
   ],
   "metadata": {
    "collapsed": false
   }
  },
  {
   "cell_type": "code",
   "execution_count": null,
   "outputs": [],
   "source": [],
   "metadata": {
    "collapsed": false
   }
  }
 ],
 "metadata": {
  "kernelspec": {
   "display_name": "Python 3 (ipykernel)",
   "language": "python",
   "name": "python3"
  },
  "language_info": {
   "codemirror_mode": {
    "name": "ipython",
    "version": 3
   },
   "file_extension": ".py",
   "mimetype": "text/x-python",
   "name": "python",
   "nbconvert_exporter": "python",
   "pygments_lexer": "ipython3",
   "version": "3.10.8"
  }
 },
 "nbformat": 4,
 "nbformat_minor": 1
}
