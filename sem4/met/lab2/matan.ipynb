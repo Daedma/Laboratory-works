{
 "cells": [
  {
   "cell_type": "markdown",
   "metadata": {
    "collapsed": false
   },
   "source": [
    "Вариант 8.\n",
    "1. Создать произвольную верхнюю унитреугольную матрицу\n",
    "А 5 порядка, вектор B произвольный. Решить систему AX = B."
   ]
  },
  {
   "cell_type": "code",
   "execution_count": 1,
   "metadata": {
    "collapsed": false
   },
   "outputs": [
    {
     "name": "stdout",
     "output_type": "stream",
     "text": [
      "Матрица A:\n",
      "[[0.6018542  0.08546618 0.27826616 0.16995671 0.55623261]\n",
      " [0.         0.97896544 0.47270569 0.26141106 0.93265381]\n",
      " [0.         0.         0.03494431 0.78631421 0.59251882]\n",
      " [0.         0.         0.         0.27116072 0.3713379 ]\n",
      " [0.         0.         0.         0.         0.86356982]]\n",
      "Вектор B:\n",
      "[0.81915102 0.1484251  0.93885187 0.90389463 0.40353246]\n",
      "Решение системы AX=B:\n",
      "[ 16.71936125  19.10585027 -41.66539607   2.69351081   0.46728412]\n"
     ]
    }
   ],
   "source": [
    "import numpy as np\n",
    "\n",
    "# Создаем произвольную верхнюю унитреугольную матрицу A\n",
    "A = np.triu(np.random.rand(5, 5), k=0)\n",
    "print(\"Матрица A:\")\n",
    "print(A)\n",
    "\n",
    "# Создаем произвольный вектор B\n",
    "B = np.random.rand(5)\n",
    "print(\"Вектор B:\")\n",
    "print(B)\n",
    "\n",
    "# Решаем систему AX=B\n",
    "if np.linalg.det(A) != 0:\n",
    "    X = np.linalg.solve(A, B)\n",
    "    print(\"Решение системы AX=B:\")\n",
    "    print(X)\n",
    "else:\n",
    "    print(\"Матрица A вырождена и не имеет обратной.\")"
   ]
  },
  {
   "cell_type": "markdown",
   "metadata": {
    "collapsed": false
   },
   "source": [
    "2. Решить систему, используя LU разложение\n",
    "{\n",
    "1.7 x1+10 x2−1.3 x3+2.1 x4=3.3\n",
    "3.1 x1+1.7 x2−2.1 x3+5.4 x4=2.1\n",
    "3.3 x1−7.7 x2+4.4 x3−5.1 x4=1.9\n",
    "10 x1−20.1 x2+24 x3+1.7 x4=1.8\n",
    "}"
   ]
  },
  {
   "cell_type": "code",
   "execution_count": 2,
   "metadata": {
    "collapsed": false
   },
   "outputs": [
    {
     "name": "stdout",
     "output_type": "stream",
     "text": [
      "Решение системы уравнений:\n",
      "[ 0.95768639  0.06571745 -0.23327448 -0.32785627]\n"
     ]
    }
   ],
   "source": [
    "import scipy.linalg\n",
    "# Задаем матрицу A и вектор B\n",
    "A = np.array([[1.7, 10, -1.3, 2.1],\n",
    "              [3.1, 1.7, -2.1, 5.4],\n",
    "              [3.3, -7.7, 4.4, -5.1],\n",
    "              [10, -20.1, 24, 1.7]])\n",
    "B = np.array([3.3, 2.1, 1.9, 1.8])\n",
    "\n",
    "# LU разложение\n",
    "P, L, U = scipy.linalg.lu(A)\n",
    "\n",
    "# Решаем систему уравнений\n",
    "y = np.linalg.solve(L, P.dot(B))\n",
    "x = np.linalg.solve(U, y)\n",
    "\n",
    "# Выводим решение\n",
    "print(\"Решение системы уравнений:\")\n",
    "print(x)\n"
   ]
  },
  {
   "cell_type": "markdown",
   "metadata": {
    "collapsed": false
   },
   "source": [
    "3. Решить систему из пункта 2 с помощью QR разложения матрицы А. QR разложение найти методом Грама-Шмидта.\n",
    "Проверить полученное решение непосредственной подстановкой в исходную систему, а также методом np.solve."
   ]
  },
  {
   "cell_type": "code",
   "execution_count": 3,
   "metadata": {
    "collapsed": false
   },
   "outputs": [
    {
     "name": "stdout",
     "output_type": "stream",
     "text": [
      "Решение системы уравнений:\n",
      "[ 0.86978437  0.21509547 -0.09211162 -0.2139682 ]\n",
      "Проверка решения:\n",
      "True\n",
      "Проверка решения методом np.solve:\n",
      "True\n"
     ]
    }
   ],
   "source": [
    "# QR разложение матрицы A методом Грама-Шмидта\n",
    "def gram_schmidt(A):\n",
    "    m, n = A.shape\n",
    "    Q = np.zeros(A.shape, dtype=np.float64)\n",
    "    R = np.zeros((A.shape[1], A.shape[1]),dtype=np.float64)\n",
    "\n",
    "    for j in range(n):\n",
    "        v = A[:, j].astype(np.float64)\n",
    "        for i in range(j):\n",
    "            R[i, j] = Q[:, i].T.dot(A[:, j])\n",
    "            v -= R[i, j] * Q[:, i]\n",
    "        R[j, j] = np.linalg.norm(v)\n",
    "        Q[:, j] = v / R[j, j]\n",
    "\n",
    "    return Q, R\n",
    "# Решаем систему уравнений\n",
    "Q, R = gram_schmidt(A)\n",
    "y = np.dot(Q.T, B)\n",
    "x = np.linalg.solve(R, y)\n",
    "\n",
    "# Выводим решение\n",
    "print(\"Решение системы уравнений:\")\n",
    "print(x)\n",
    "\n",
    "# Проверяем решение\n",
    "print(\"Проверка решения:\")\n",
    "print(np.allclose(np.dot(A, x), B))\n",
    "\n",
    "# Проверяем решение методом np.solve\n",
    "x_np = np.linalg.solve(A, B)\n",
    "print(\"Проверка решения методом np.solve:\")\n",
    "print(np.allclose(x, x_np))"
   ]
  },
  {
   "cell_type": "markdown",
   "metadata": {
    "collapsed": false
   },
   "source": [
    "4. Решить систему методом простых итераций с точностью до 10−3. Проверить выполнение достаточного условия сходимости.\n",
    "Если условие не выполняется, в программе выполнить эквивалентные преобразования системы, после этого привести к удобному\n",
    "для итераций виду. Оформить итерации в виде таблицы (можно пользоваться модулями PrettyTable или Pandas).\n",
    "{\n",
    "3.6 x1+1.8 x2−4.7 x3=3.8\n",
    "2.7 x1−3.6 x2+1.9 x3=0.4\n",
    "1.5 x1+4.5 x2+3.3 x3=−1.6\n",
    "}"
   ]
  },
  {
   "cell_type": "code",
   "execution_count": 4,
   "metadata": {
    "collapsed": false
   },
   "outputs": [
    {
     "name": "stdout",
     "output_type": "stream",
     "text": [
      "Достаточное условие сходимости не выполняется\n",
      "+---+---------+--------+---------+\n",
      "| k |  x1(k)  | x2(k)  |  x3(k)  |\n",
      "+---+---------+--------+---------+\n",
      "| 0 |  1.0556 | 0.1481 | -1.1985 |\n",
      "| 1 | -0.5832 | 0.0879 | -0.3219 |\n",
      "| 2 |  0.5914 | 0.0356 | -0.8201 |\n",
      "| 3 | -0.0329 | 0.0923 | -0.5948 |\n",
      "| 4 |  0.2329 | 0.0564 | -0.6746 |\n",
      "| 5 |  0.1467 | 0.0741 | -0.6569 |\n",
      "| 6 |  0.1609 | 0.0671 | -0.6543 |\n",
      "| 7 |  0.1678 | 0.0691 | -0.6603 |\n",
      "+---+---------+--------+---------+\n",
      "Решение системы: x1 ≈ 0.161, x2 ≈ 0.067, x3 ≈ -0.654\n"
     ]
    }
   ],
   "source": [
    "from prettytable import PrettyTable\n",
    "\n",
    "# исходная система\n",
    "A = np.array([[3.6, 1.8, -4.7],\n",
    "              [2.7, -3.6, 1.9],\n",
    "              [1.5, 4.5, 3.3]])\n",
    "b = np.array([3.8, 0.4, -1.6])\n",
    "\n",
    "# приведение системы к виду x = Bx + c\n",
    "B = np.zeros((3, 3))\n",
    "c = np.zeros(3)\n",
    "for i in range(3):\n",
    "    c[i] = b[i] / A[i, i]\n",
    "    for j in range(3):\n",
    "        if i != j:\n",
    "            B[i, j] = -A[i, j] / A[i, i]\n",
    "\n",
    "# проверка достаточного условия сходимости\n",
    "if np.max(np.abs(np.linalg.eigvals(B))) >= 1:\n",
    "    print('Достаточное условие сходимости не выполняется')\n",
    "    # выполнение эквивалентных преобразований системы\n",
    "    A[0, :] /= 3.6\n",
    "    A[0, 0] = 1\n",
    "    A[1, :] /= 2.7\n",
    "    A[1, 1] = 1\n",
    "    A[2, :] /= 3.3\n",
    "    A[2, 2] = 1\n",
    "    b /= np.diag(A)\n",
    "    B = np.zeros((3, 3))\n",
    "    c = np.zeros(3)\n",
    "    for i in range(3):\n",
    "        c[i] = b[i] / A[i, i]\n",
    "        for j in range(3):\n",
    "            if i != j:\n",
    "                B[i, j] = -A[i, j]\n",
    "\n",
    "# начальное приближение и точность\n",
    "x0 = np.zeros(3)\n",
    "eps = 0.01\n",
    "\n",
    "# итерации\n",
    "x = x0\n",
    "table = PrettyTable(['k', 'x1(k)', 'x2(k)', 'x3(k)'])\n",
    "while True:\n",
    "    x_new = np.zeros(3)\n",
    "    x_new[0] = 1.3056*x[2] - 0.5*x[1] + 1.0556\n",
    "    x_new[1] = 0.1481*x[2] + 0.1111*x[0] + 0.1481\n",
    "    x_new[2] = -0.4848*x_new[0] - 1.3636*x_new[1] - 0.4848\n",
    "    table.add_row([len(table._rows), round(x_new[0], 4), round(x_new[1], 4), round(x_new[2], 4)])\n",
    "    if np.max(np.abs(x_new - x)) < eps:\n",
    "        break\n",
    "    x = x_new\n",
    "\n",
    "print(table)\n",
    "print('Решение системы: x1 ≈ {}, x2 ≈ {}, x3 ≈ {}'.format(round(x[0], 3), round(x[1], 3), round(x[2], 3)))\n"
   ]
  },
  {
   "cell_type": "code",
   "execution_count": null,
   "metadata": {
    "collapsed": false
   },
   "outputs": [],
   "source": []
  }
 ],
 "metadata": {
  "kernelspec": {
   "display_name": "Python 3",
   "language": "python",
   "name": "python3"
  },
  "language_info": {
   "codemirror_mode": {
    "name": "ipython",
    "version": 3
   },
   "file_extension": ".py",
   "mimetype": "text/x-python",
   "name": "python",
   "nbconvert_exporter": "python",
   "pygments_lexer": "ipython3",
   "version": "3.11.0"
  }
 },
 "nbformat": 4,
 "nbformat_minor": 0
}
