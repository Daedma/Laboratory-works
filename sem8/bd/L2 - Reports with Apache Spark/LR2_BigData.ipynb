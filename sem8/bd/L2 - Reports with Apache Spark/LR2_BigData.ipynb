{
  "nbformat": 4,
  "nbformat_minor": 0,
  "metadata": {
    "colab": {
      "provenance": []
    },
    "kernelspec": {
      "name": "python3",
      "display_name": "Python 3"
    },
    "language_info": {
      "name": "python"
    }
  },
  "cells": [
    {
      "cell_type": "code",
      "execution_count": 1,
      "metadata": {
        "id": "8STh8vhOcvSp"
      },
      "outputs": [],
      "source": [
        "# Инициализация контекста\n",
        "\n",
        "from pyspark import SparkContext, SparkConf\n",
        "\n",
        "conf = SparkConf().setAppName(\"L2_Apache_Spark\").setMaster(\"local[4]\") \\\n",
        "    .set(\"spark.executor.memory\", \"2g\") \\\n",
        "    .set(\"spark.driver.memory\", \"2g\") \\\n",
        "\t.set(\"spark.python.worker.timeout\", \"12000\")\n",
        "\n",
        "sc = SparkContext(conf=conf)"
      ]
    },
    {
      "cell_type": "markdown",
      "source": [
        "Загрузка данных"
      ],
      "metadata": {
        "id": "56Wws90Tel0-"
      }
    },
    {
      "cell_type": "code",
      "source": [
        "import xml.etree.ElementTree as ET\n",
        "from typing import NamedTuple\n",
        "from datetime import datetime\n",
        "import re"
      ],
      "metadata": {
        "id": "S2eT4QBztSGr"
      },
      "execution_count": 13,
      "outputs": []
    },
    {
      "cell_type": "code",
      "source": [
        "postsData = sc.textFile(\"posts_sample.xml\")\n",
        "postsCount = postsData.count();\n",
        "postsXML = postsData \\\n",
        "  .zipWithIndex() \\\n",
        "  .filter(lambda t: t[1] > 1 and t[1] < postsCount - 1) \\\n",
        "  .map(lambda t: ET.fromstring(t[0]))\n",
        "\n",
        "def initPosts(posts):\n",
        "    class Post(NamedTuple):\n",
        "        creationDate: datetime\n",
        "        tags: list\n",
        "\n",
        "    tagPattern = re.compile(r'<([^>]+)>')\n",
        "\n",
        "    for post in posts:\n",
        "        try:\n",
        "            tagsString = post.get(\"Tags\")\n",
        "            tags = tagPattern.findall(tagsString) if tagsString else []\n",
        "            yield Post(\n",
        "                creationDate= datetime.strptime(post.get(\"CreationDate\"), '%Y-%m-%dT%H:%M:%S.%f'),\n",
        "                tags=tags)\n",
        "        except:\n",
        "            pass\n",
        "\n",
        "posts = postsXML.mapPartitions(initPosts)\n",
        "\n",
        "posts.takeSample(False, 10)"
      ],
      "metadata": {
        "id": "t6WUsphBeCaa",
        "colab": {
          "base_uri": "https://localhost:8080/"
        },
        "outputId": "25eebbe3-8bb1-4c04-af78-57cce8e5ddc4"
      },
      "execution_count": 79,
      "outputs": [
        {
          "output_type": "execute_result",
          "data": {
            "text/plain": [
              "[Post(creationDate=datetime.datetime(2015, 6, 5, 11, 10, 2, 437000), tags=[]),\n",
              " Post(creationDate=datetime.datetime(2016, 6, 7, 7, 4, 23, 757000), tags=[]),\n",
              " Post(creationDate=datetime.datetime(2017, 5, 31, 16, 26, 36, 330000), tags=['html', 'css', 'google-chrome']),\n",
              " Post(creationDate=datetime.datetime(2014, 10, 20, 16, 46, 10, 690000), tags=[]),\n",
              " Post(creationDate=datetime.datetime(2010, 6, 4, 22, 13, 37, 667000), tags=[]),\n",
              " Post(creationDate=datetime.datetime(2016, 9, 16, 7, 28, 45, 427000), tags=[]),\n",
              " Post(creationDate=datetime.datetime(2013, 9, 5, 15, 10, 30, 883000), tags=['android', 'xamarin.android']),\n",
              " Post(creationDate=datetime.datetime(2016, 6, 9, 18, 44, 27, 877000), tags=[]),\n",
              " Post(creationDate=datetime.datetime(2018, 9, 4, 22, 17, 6, 277000), tags=[]),\n",
              " Post(creationDate=datetime.datetime(2010, 7, 25, 16, 14, 57, 767000), tags=[])]"
            ]
          },
          "metadata": {},
          "execution_count": 79
        }
      ]
    },
    {
      "cell_type": "code",
      "source": [
        "programmingLanguagesData = sc.textFile(\"programming-languages.csv\")\n",
        "programmingLanguagesHeader = programmingLanguagesData.first()\n",
        "programmingLanguages = programmingLanguagesData \\\n",
        "  .filter(lambda row: row != programmingLanguagesHeader) \\\n",
        "  .map(lambda row: row.split(\",\", -1)[0].lower()) \\\n",
        "  .collect() # языков программирования немного, можем себе позволить\n",
        "\n",
        "programmingLanguages[:10]"
      ],
      "metadata": {
        "id": "uKMfL3Z5sSMy",
        "colab": {
          "base_uri": "https://localhost:8080/"
        },
        "outputId": "f24410dc-8065-4ff6-e70d-850854c9cb3f"
      },
      "execution_count": 80,
      "outputs": [
        {
          "output_type": "execute_result",
          "data": {
            "text/plain": [
              "['a# .net',\n",
              " 'a# (axiom)',\n",
              " 'a-0 system',\n",
              " 'a+',\n",
              " 'a++',\n",
              " 'abap',\n",
              " 'abc',\n",
              " 'abc algol',\n",
              " 'abset',\n",
              " 'absys']"
            ]
          },
          "metadata": {},
          "execution_count": 80
        }
      ]
    },
    {
      "cell_type": "markdown",
      "source": [
        "Объединение постов по годам"
      ],
      "metadata": {
        "id": "h4J8Yd1jvS6y"
      }
    },
    {
      "cell_type": "code",
      "source": [
        "postsByYear = posts.keyBy(lambda post: post.creationDate.year)"
      ],
      "metadata": {
        "id": "6bl8HmCyvcc3"
      },
      "execution_count": 84,
      "outputs": []
    },
    {
      "cell_type": "markdown",
      "source": [
        "Подсчет количества постов для каждого года для каждого языка"
      ],
      "metadata": {
        "id": "zJpcrSTWv0FF"
      }
    },
    {
      "cell_type": "code",
      "source": [
        "def seqFunc(pldict, post):\n",
        "    new_dict = pldict.copy()\n",
        "    for tag in post.tags:\n",
        "        if tag in programmingLanguages:\n",
        "            new_dict[tag] = new_dict.get(tag, 0) + 1\n",
        "    return new_dict\n",
        "\n",
        "def combFunc(lhs, rhs):\n",
        "    result = {}\n",
        "    all_keys = set(lhs.keys()).union(set(rhs.keys()))\n",
        "    for key in all_keys:\n",
        "        result[key] = lhs.get(key, 0) + rhs.get(key, 0)\n",
        "    return result\n",
        "\n",
        "programmingLanguagesCountedByYear = postsByYear \\\n",
        "    .aggregateByKey(\n",
        "        dict(),\n",
        "        seqFunc,\n",
        "        combFunc\n",
        "    )"
      ],
      "metadata": {
        "id": "laPYPOV5xUbf"
      },
      "execution_count": 82,
      "outputs": []
    },
    {
      "cell_type": "markdown",
      "source": [
        "Создание сводки топ-10 по годам"
      ],
      "metadata": {
        "id": "Lj0qVhT5BQrH"
      }
    },
    {
      "cell_type": "code",
      "source": [
        "programmingLanguagesTop = programmingLanguagesCountedByYear \\\n",
        "  .mapValues(lambda pldict: [lang[0] for lang in sorted(pldict.items(), key=lambda t: t[1], reverse=True)[:10]]) \\\n",
        "  .sortByKey()"
      ],
      "metadata": {
        "id": "bwoWEvfwBfpm"
      },
      "execution_count": 85,
      "outputs": []
    },
    {
      "cell_type": "markdown",
      "source": [
        "Создание файла с отчетом"
      ],
      "metadata": {
        "id": "4v3gqYxEGyxQ"
      }
    },
    {
      "cell_type": "code",
      "source": [
        "from pyspark.sql.types import StructType, StructField, ArrayType, IntegerType, StringType\n",
        "from pyspark.sql import SparkSession\n",
        "\n",
        "ss = SparkSession.builder \\\n",
        "    .appName(\"L2_Apache_Spark\") \\\n",
        "    .getOrCreate()\n",
        "\n",
        "schema = StructType([\n",
        "    StructField('year', IntegerType(), True),\n",
        "    StructField('top_languages', ArrayType(StringType()), True)\n",
        "])\n",
        "\n",
        "langTopDF = programmingLanguagesTop.toDF(schema)\n",
        "langTopDF.write.mode(\"overwrite\").parquet(\"top_10_languages_by_year.parquet\")\n",
        "\n",
        "langTopDF.show(truncate=False)"
      ],
      "metadata": {
        "colab": {
          "base_uri": "https://localhost:8080/"
        },
        "id": "t37SfVuLHA39",
        "outputId": "28335d1e-883c-492f-e819-d3ce1e94699b"
      },
      "execution_count": 86,
      "outputs": [
        {
          "output_type": "stream",
          "name": "stdout",
          "text": [
            "+----+----------------------------------------------------------------------------+\n",
            "|year|top_languages                                                               |\n",
            "+----+----------------------------------------------------------------------------+\n",
            "|2008|[java, ruby, javascript, c, groovy, x++, python, io, php]                   |\n",
            "|2009|[java, python, php, javascript, ruby, delphi, objective-c, c, haskell, bash]|\n",
            "|2010|[java, php, javascript, python, objective-c, c, ruby, delphi, bash, perl]   |\n",
            "|2011|[php, java, javascript, python, objective-c, c, ruby, perl, delphi, bash]   |\n",
            "|2012|[php, javascript, java, python, objective-c, ruby, c, bash, r, scala]       |\n",
            "|2013|[javascript, php, java, python, objective-c, c, ruby, r, bash, scala]       |\n",
            "|2014|[javascript, java, php, python, objective-c, c, r, ruby, bash, matlab]      |\n",
            "|2015|[javascript, java, php, python, r, c, objective-c, ruby, matlab, scala]     |\n",
            "|2016|[javascript, java, php, python, r, c, ruby, bash, scala, matlab]            |\n",
            "|2017|[javascript, java, python, php, r, c, typescript, objective-c, ruby, bash]  |\n",
            "|2018|[python, javascript, java, php, r, typescript, c, scala, powershell, bash]  |\n",
            "|2019|[python, javascript, java, php, r, typescript, c, bash, matlab, dart]       |\n",
            "+----+----------------------------------------------------------------------------+\n",
            "\n"
          ]
        }
      ]
    },
    {
      "cell_type": "code",
      "source": [
        "sc.stop()\n",
        "ss.stop()"
      ],
      "metadata": {
        "id": "MJ7XDD7rst1-"
      },
      "execution_count": 87,
      "outputs": []
    }
  ]
}