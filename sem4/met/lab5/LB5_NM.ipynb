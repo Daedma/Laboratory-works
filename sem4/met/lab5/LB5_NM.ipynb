{
 "cells": [
  {
   "attachments": {
    "image.png": {
     "image/png": "[encoded data removed]"
    }
   },
   "cell_type": "markdown",
   "metadata": {},
   "source": [
    "# Лабораторная работ №5\n",
    "![image.png](attachment:image.png)"
   ]
  },
  {
   "cell_type": "code",
   "execution_count": 2,
   "metadata": {},
   "outputs": [],
   "source": [
    "import numpy as np\n",
    "import sympy as sm\n",
    "import math"
   ]
  },
  {
   "cell_type": "markdown",
   "metadata": {},
   "source": [
    "## Вычисление шага интегрирования"
   ]
  },
  {
   "cell_type": "code",
   "execution_count": 4,
   "metadata": {},
   "outputs": [
    {
     "name": "stdout",
     "output_type": "stream",
     "text": [
      "x**2/(1 - x**2)**(3/2) + 2/sqrt(1 - x**2)\n"
     ]
    }
   ],
   "source": [
    "M = 0\n",
    "x = sm.Symbol('x')\n",
    "y = x * sm.asin(x)\n",
    "y2 = sm.diff(sm.diff(y))\n",
    "print(y2)\n"
   ]
  },
  {
   "cell_type": "code",
   "execution_count": 5,
   "metadata": {},
   "outputs": [],
   "source": [
    "a = 0\n",
    "b = 0.9\n",
    "\n",
    "def f(x):\n",
    "    return x*math.asin(x)"
   ]
  },
  {
   "cell_type": "code",
   "execution_count": 7,
   "metadata": {},
   "outputs": [
    {
     "name": "stdout",
     "output_type": "stream",
     "text": [
      "Шаг интегрирования:  0.225\n"
     ]
    }
   ],
   "source": [
    "def f_double_prime(x):\n",
    "    return x**2/(1 - x**2)**(3/2) + 2/math.sqrt(1 - x**2)\n",
    "\n",
    "def compute_h(a, b, epsilon):\n",
    "    M = max(abs(f_double_prime(x)) for x in [a, b])\n",
    "    num_parts = math.ceil(math.sqrt((12 * epsilon) / (abs(b-a) * M)) / 4) * 4\n",
    "    h = (b - a) / num_parts\n",
    "    return h\n",
    "\n",
    "epsilon = 0.001\n",
    "h = compute_h(a, b, epsilon)\n",
    "print(\"Шаг интегрирования: \", h)"
   ]
  },
  {
   "cell_type": "markdown",
   "metadata": {},
   "source": [
    "## Формула трапеций"
   ]
  },
  {
   "cell_type": "code",
   "execution_count": 8,
   "metadata": {},
   "outputs": [
    {
     "name": "stdout",
     "output_type": "stream",
     "text": [
      "Значение интеграла при шаге h: 0.28465965932577175\n",
      "\n",
      "Значение интеграла при шаге 2h: 0.321273307944301\n",
      "\n",
      "Уточненная оценка погрешности: 0.012204549539509743\n"
     ]
    }
   ],
   "source": [
    "def trapezoidal_rule(a, b, h):\n",
    "    n = int((b - a) / h)\n",
    "    x = [a + i * h for i in range(n + 1)]\n",
    "    y = [f(xi) for xi in x]\n",
    "    I = h * (y[0] / 2 + sum(y[1:-1]) + y[-1] / 2)\n",
    "    return I\n",
    "\n",
    "I_h = trapezoidal_rule(a, b, h)\n",
    "print(\"Значение интеграла при шаге h:\", I_h)\n",
    "print()\n",
    "\n",
    "I_2h = trapezoidal_rule(a, b, 2*h)\n",
    "print(\"Значение интеграла при шаге 2h:\", I_2h)\n",
    "print()\n",
    "\n",
    "Delta = abs((I_2h - I_h) / 3)\n",
    "print(\"Уточненная оценка погрешности:\", Delta)"
   ]
  },
  {
   "cell_type": "markdown",
   "metadata": {},
   "source": [
    "## Формула Симпсона"
   ]
  },
  {
   "cell_type": "code",
   "execution_count": 9,
   "metadata": {},
   "outputs": [
    {
     "name": "stdout",
     "output_type": "stream",
     "text": [
      "Значение интеграла при шаге h: 0.2724551097862619\n",
      "\n",
      "Значение интеграла при шаге 2h: 0.27719552606758563\n",
      "\n",
      "Уточненная оценка погрешности: 0.000316027752088\n"
     ]
    }
   ],
   "source": [
    "def simpson_integration(a, b, h):\n",
    "    m = int((b - a) / h)\n",
    "    x = [a + i * h for i in range(m + 1)]\n",
    "    y = [f(x[i]) for i in range(m + 1)]\n",
    "    s1 = sum(y[1:-1:2])\n",
    "    s2 = sum(y[2:-1:2])\n",
    "    return h / 3 * (y[0] + y[-1] + 4 * s1 + 2 * s2)\n",
    "\n",
    "I1_h = simpson_integration(a, b, h)\n",
    "print(\"Значение интеграла при шаге h:\", I1_h)\n",
    "print()\n",
    "\n",
    "I1_2h = simpson_integration(a, b, 2*h)\n",
    "print(\"Значение интеграла при шаге 2h:\", I1_2h)\n",
    "print()\n",
    "\n",
    "Delta1 = abs((I1_2h - I1_h)) / 15\n",
    "print(\"Уточненная оценка погрешности:\", \"{:.15f}\".format(Delta1))"
   ]
  },
  {
   "cell_type": "markdown",
   "metadata": {},
   "source": [
    "## Формула Ньютона"
   ]
  },
  {
   "cell_type": "code",
   "execution_count": 10,
   "metadata": {},
   "outputs": [
    {
     "name": "stdout",
     "output_type": "stream",
     "text": [
      "Значение интеграла при шаге h: 0.2724551097862619\n",
      "\n",
      "Значение интеграла при шаге 2h: 0.27719552606758563\n"
     ]
    }
   ],
   "source": [
    "def newton_cotes(a, b, h):\n",
    "    n = int((b - a) / (3 * h))\n",
    "\n",
    "    y0 = f(a)\n",
    "    y3n = f(b)\n",
    "\n",
    "    sum1 = 0\n",
    "    sum2 = 0\n",
    "\n",
    "    for i in range(1, n):\n",
    "        xi = a + i * h\n",
    "        if i % 3 == 0:\n",
    "            sum2 += f(xi)\n",
    "        else:\n",
    "            sum1 += f(xi)\n",
    "\n",
    "    I_approx = (3 * h / 8) * (y0 + y3n + 2 * sum2 + 3 * sum1)\n",
    "\n",
    "    return I_approx\n",
    "\n",
    "I2_h = simpson_integration(a, b, h)\n",
    "print(\"Значение интеграла при шаге h:\", I2_h)\n",
    "print()\n",
    "\n",
    "I2_2h = simpson_integration(a, b, 2*h)\n",
    "print(\"Значение интеграла при шаге 2h:\", I2_2h)"
   ]
  },
  {
   "cell_type": "markdown",
   "metadata": {},
   "source": [
    "## Значение интеграла с помощью python"
   ]
  },
  {
   "cell_type": "code",
   "execution_count": 11,
   "metadata": {},
   "outputs": [
    {
     "data": {
      "text/latex": [
       "$\\displaystyle x \\operatorname{asin}{\\left(x \\right)}$"
      ],
      "text/plain": [
       "x*asin(x)"
      ]
     },
     "execution_count": 11,
     "metadata": {},
     "output_type": "execute_result"
    }
   ],
   "source": [
    "x=sm.Symbol(\"x\")\n",
    "f = x* sm.asin(x)\n",
    "f"
   ]
  },
  {
   "cell_type": "code",
   "execution_count": 12,
   "metadata": {},
   "outputs": [
    {
     "data": {
      "text/latex": [
       "$\\displaystyle - \\frac{\\pi}{8} + \\frac{31 \\operatorname{asin}{\\left(4 \\right)}}{4} + \\sqrt{15} i$"
      ],
      "text/plain": [
       "-pi/8 + 31*asin(4)/4 + sqrt(15)*I"
      ]
     },
     "execution_count": 12,
     "metadata": {},
     "output_type": "execute_result"
    }
   ],
   "source": [
    "inte=sm.integrate(f,(x,1,4))\n",
    "inte"
   ]
  },
  {
   "cell_type": "code",
   "execution_count": 13,
   "metadata": {},
   "outputs": [
    {
     "data": {
      "text/latex": [
       "$\\displaystyle 11.7809724509617 - 12.1186539377332 i$"
      ],
      "text/plain": [
       "11.7809724509617 - 12.1186539377332*I"
      ]
     },
     "execution_count": 13,
     "metadata": {},
     "output_type": "execute_result"
    }
   ],
   "source": [
    "sm.N(inte)"
   ]
  },
  {
   "cell_type": "markdown",
   "metadata": {},
   "source": [
    "## Результаты"
   ]
  },
  {
   "cell_type": "code",
   "execution_count": 14,
   "metadata": {},
   "outputs": [
    {
     "name": "stdout",
     "output_type": "stream",
     "text": [
      "Формула трапеций: 0.28465965932577175\n",
      "Формула Симпсона: 0.2724551097862619\n",
      "Формула Ньютона: 0.2724551097862619\n",
      "Python: 11.7809724509617 - 12.1186539377332*I\n"
     ]
    }
   ],
   "source": [
    "print(\"Формула трапеций:\", I_h)\n",
    "print(\"Формула Симпсона:\", I1_h)\n",
    "print(\"Формула Ньютона:\", I2_h)\n",
    "print(\"Python:\",sm.N(inte))"
   ]
  },
  {
   "cell_type": "code",
   "execution_count": null,
   "metadata": {},
   "outputs": [],
   "source": []
  }
 ],
 "metadata": {
  "kernelspec": {
   "display_name": "Python 3 (ipykernel)",
   "language": "python",
   "name": "python3"
  },
  "language_info": {
   "codemirror_mode": {
    "name": "ipython",
    "version": 3
   },
   "file_extension": ".py",
   "mimetype": "text/x-python",
   "name": "python",
   "nbconvert_exporter": "python",
   "pygments_lexer": "ipython3",
   "version": "3.10.8"
  }
 },
 "nbformat": 4,
 "nbformat_minor": 2
}
